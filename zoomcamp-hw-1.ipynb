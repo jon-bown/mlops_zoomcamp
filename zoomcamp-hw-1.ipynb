{
 "cells": [
  {
   "cell_type": "code",
   "execution_count": 1,
   "id": "3f9151e0",
   "metadata": {
    "_cell_guid": "b1076dfc-b9ad-4769-8c92-a6c4dae69d19",
    "_uuid": "8f2839f25d086af736a60e9eeb907d3b93b6e0e5",
    "execution": {
     "iopub.execute_input": "2023-05-17T22:17:40.082126Z",
     "iopub.status.busy": "2023-05-17T22:17:40.081767Z",
     "iopub.status.idle": "2023-05-17T22:17:41.499598Z",
     "shell.execute_reply": "2023-05-17T22:17:41.498560Z"
    },
    "papermill": {
     "duration": 1.427573,
     "end_time": "2023-05-17T22:17:41.502460",
     "exception": false,
     "start_time": "2023-05-17T22:17:40.074887",
     "status": "completed"
    },
    "tags": []
   },
   "outputs": [
    {
     "name": "stdout",
     "output_type": "stream",
     "text": [
      "/kaggle/input/mlops-zoomcamp-data/yellow_tripdata_2022-02.parquet\n",
      "/kaggle/input/mlops-zoomcamp-data/yellow_tripdata_2022-01.parquet\n"
     ]
    },
    {
     "name": "stderr",
     "output_type": "stream",
     "text": [
      "/opt/conda/lib/python3.10/site-packages/scipy/__init__.py:146: UserWarning: A NumPy version >=1.16.5 and <1.23.0 is required for this version of SciPy (detected version 1.23.5\n",
      "  warnings.warn(f\"A NumPy version >={np_minversion} and <{np_maxversion}\"\n"
     ]
    }
   ],
   "source": [
    "import numpy as np # linear algebra\n",
    "import pandas as pd # data processing, CSV file I/O (e.g. pd.read_csv)\n",
    "import os\n",
    "for dirname, _, filenames in os.walk('/kaggle/input'):\n",
    "    for filename in filenames:\n",
    "        print(os.path.join(dirname, filename))\n",
    "from sklearn.feature_extraction import DictVectorizer\n",
    "from sklearn.linear_model import LinearRegression\n",
    "from sklearn.metrics import mean_squared_error\n",
    "# You can write up to 20GB to the current directory (/kaggle/working/) that gets preserved as output when you create a version using \"Save & Run All\" \n",
    "# You can also write temporary files to /kaggle/temp/, but they won't be saved outside of the current session"
   ]
  },
  {
   "cell_type": "code",
   "execution_count": 2,
   "id": "de97905a",
   "metadata": {
    "execution": {
     "iopub.execute_input": "2023-05-17T22:17:41.513803Z",
     "iopub.status.busy": "2023-05-17T22:17:41.513387Z",
     "iopub.status.idle": "2023-05-17T22:17:43.834391Z",
     "shell.execute_reply": "2023-05-17T22:17:43.833307Z"
    },
    "papermill": {
     "duration": 2.32943,
     "end_time": "2023-05-17T22:17:43.836848",
     "exception": false,
     "start_time": "2023-05-17T22:17:41.507418",
     "status": "completed"
    },
    "tags": []
   },
   "outputs": [],
   "source": [
    "#READ IN DATA\n",
    "jan_df = pd.read_parquet('/kaggle/input/mlops-zoomcamp-data/yellow_tripdata_2022-01.parquet')\n",
    "feb_df = pd.read_parquet('/kaggle/input/mlops-zoomcamp-data/yellow_tripdata_2022-02.parquet')"
   ]
  },
  {
   "cell_type": "code",
   "execution_count": 3,
   "id": "867a26f2",
   "metadata": {
    "execution": {
     "iopub.execute_input": "2023-05-17T22:17:43.849902Z",
     "iopub.status.busy": "2023-05-17T22:17:43.849530Z",
     "iopub.status.idle": "2023-05-17T22:17:43.855345Z",
     "shell.execute_reply": "2023-05-17T22:17:43.854628Z"
    },
    "papermill": {
     "duration": 0.014142,
     "end_time": "2023-05-17T22:17:43.857116",
     "exception": false,
     "start_time": "2023-05-17T22:17:43.842974",
     "status": "completed"
    },
    "tags": []
   },
   "outputs": [
    {
     "data": {
      "text/plain": [
       "(2463931, 19)"
      ]
     },
     "execution_count": 3,
     "metadata": {},
     "output_type": "execute_result"
    }
   ],
   "source": [
    "#Q1\n",
    "jan_df.shape"
   ]
  },
  {
   "cell_type": "code",
   "execution_count": 4,
   "id": "0bb88add",
   "metadata": {
    "execution": {
     "iopub.execute_input": "2023-05-17T22:17:43.869602Z",
     "iopub.status.busy": "2023-05-17T22:17:43.868711Z",
     "iopub.status.idle": "2023-05-17T22:17:43.874372Z",
     "shell.execute_reply": "2023-05-17T22:17:43.873717Z"
    },
    "papermill": {
     "duration": 0.014247,
     "end_time": "2023-05-17T22:17:43.876520",
     "exception": false,
     "start_time": "2023-05-17T22:17:43.862273",
     "status": "completed"
    },
    "tags": []
   },
   "outputs": [
    {
     "data": {
      "text/plain": [
       "Index(['VendorID', 'tpep_pickup_datetime', 'tpep_dropoff_datetime',\n",
       "       'passenger_count', 'trip_distance', 'RatecodeID', 'store_and_fwd_flag',\n",
       "       'PULocationID', 'DOLocationID', 'payment_type', 'fare_amount', 'extra',\n",
       "       'mta_tax', 'tip_amount', 'tolls_amount', 'improvement_surcharge',\n",
       "       'total_amount', 'congestion_surcharge', 'airport_fee'],\n",
       "      dtype='object')"
      ]
     },
     "execution_count": 4,
     "metadata": {},
     "output_type": "execute_result"
    }
   ],
   "source": [
    "jan_df.columns"
   ]
  },
  {
   "cell_type": "code",
   "execution_count": 5,
   "id": "12f6a77f",
   "metadata": {
    "execution": {
     "iopub.execute_input": "2023-05-17T22:17:43.889754Z",
     "iopub.status.busy": "2023-05-17T22:17:43.888270Z",
     "iopub.status.idle": "2023-05-17T22:17:43.926654Z",
     "shell.execute_reply": "2023-05-17T22:17:43.926012Z"
    },
    "papermill": {
     "duration": 0.04668,
     "end_time": "2023-05-17T22:17:43.928483",
     "exception": false,
     "start_time": "2023-05-17T22:17:43.881803",
     "status": "completed"
    },
    "tags": []
   },
   "outputs": [
    {
     "data": {
      "text/html": [
       "<div>\n",
       "<style scoped>\n",
       "    .dataframe tbody tr th:only-of-type {\n",
       "        vertical-align: middle;\n",
       "    }\n",
       "\n",
       "    .dataframe tbody tr th {\n",
       "        vertical-align: top;\n",
       "    }\n",
       "\n",
       "    .dataframe thead th {\n",
       "        text-align: right;\n",
       "    }\n",
       "</style>\n",
       "<table border=\"1\" class=\"dataframe\">\n",
       "  <thead>\n",
       "    <tr style=\"text-align: right;\">\n",
       "      <th></th>\n",
       "      <th>VendorID</th>\n",
       "      <th>tpep_pickup_datetime</th>\n",
       "      <th>tpep_dropoff_datetime</th>\n",
       "      <th>passenger_count</th>\n",
       "      <th>trip_distance</th>\n",
       "      <th>RatecodeID</th>\n",
       "      <th>store_and_fwd_flag</th>\n",
       "      <th>PULocationID</th>\n",
       "      <th>DOLocationID</th>\n",
       "      <th>payment_type</th>\n",
       "      <th>fare_amount</th>\n",
       "      <th>extra</th>\n",
       "      <th>mta_tax</th>\n",
       "      <th>tip_amount</th>\n",
       "      <th>tolls_amount</th>\n",
       "      <th>improvement_surcharge</th>\n",
       "      <th>total_amount</th>\n",
       "      <th>congestion_surcharge</th>\n",
       "      <th>airport_fee</th>\n",
       "    </tr>\n",
       "  </thead>\n",
       "  <tbody>\n",
       "    <tr>\n",
       "      <th>0</th>\n",
       "      <td>1</td>\n",
       "      <td>2022-01-01 00:35:40</td>\n",
       "      <td>2022-01-01 00:53:29</td>\n",
       "      <td>2.0</td>\n",
       "      <td>3.80</td>\n",
       "      <td>1.0</td>\n",
       "      <td>N</td>\n",
       "      <td>142</td>\n",
       "      <td>236</td>\n",
       "      <td>1</td>\n",
       "      <td>14.5</td>\n",
       "      <td>3.0</td>\n",
       "      <td>0.5</td>\n",
       "      <td>3.65</td>\n",
       "      <td>0.0</td>\n",
       "      <td>0.3</td>\n",
       "      <td>21.95</td>\n",
       "      <td>2.5</td>\n",
       "      <td>0.0</td>\n",
       "    </tr>\n",
       "    <tr>\n",
       "      <th>1</th>\n",
       "      <td>1</td>\n",
       "      <td>2022-01-01 00:33:43</td>\n",
       "      <td>2022-01-01 00:42:07</td>\n",
       "      <td>1.0</td>\n",
       "      <td>2.10</td>\n",
       "      <td>1.0</td>\n",
       "      <td>N</td>\n",
       "      <td>236</td>\n",
       "      <td>42</td>\n",
       "      <td>1</td>\n",
       "      <td>8.0</td>\n",
       "      <td>0.5</td>\n",
       "      <td>0.5</td>\n",
       "      <td>4.00</td>\n",
       "      <td>0.0</td>\n",
       "      <td>0.3</td>\n",
       "      <td>13.30</td>\n",
       "      <td>0.0</td>\n",
       "      <td>0.0</td>\n",
       "    </tr>\n",
       "    <tr>\n",
       "      <th>2</th>\n",
       "      <td>2</td>\n",
       "      <td>2022-01-01 00:53:21</td>\n",
       "      <td>2022-01-01 01:02:19</td>\n",
       "      <td>1.0</td>\n",
       "      <td>0.97</td>\n",
       "      <td>1.0</td>\n",
       "      <td>N</td>\n",
       "      <td>166</td>\n",
       "      <td>166</td>\n",
       "      <td>1</td>\n",
       "      <td>7.5</td>\n",
       "      <td>0.5</td>\n",
       "      <td>0.5</td>\n",
       "      <td>1.76</td>\n",
       "      <td>0.0</td>\n",
       "      <td>0.3</td>\n",
       "      <td>10.56</td>\n",
       "      <td>0.0</td>\n",
       "      <td>0.0</td>\n",
       "    </tr>\n",
       "    <tr>\n",
       "      <th>3</th>\n",
       "      <td>2</td>\n",
       "      <td>2022-01-01 00:25:21</td>\n",
       "      <td>2022-01-01 00:35:23</td>\n",
       "      <td>1.0</td>\n",
       "      <td>1.09</td>\n",
       "      <td>1.0</td>\n",
       "      <td>N</td>\n",
       "      <td>114</td>\n",
       "      <td>68</td>\n",
       "      <td>2</td>\n",
       "      <td>8.0</td>\n",
       "      <td>0.5</td>\n",
       "      <td>0.5</td>\n",
       "      <td>0.00</td>\n",
       "      <td>0.0</td>\n",
       "      <td>0.3</td>\n",
       "      <td>11.80</td>\n",
       "      <td>2.5</td>\n",
       "      <td>0.0</td>\n",
       "    </tr>\n",
       "    <tr>\n",
       "      <th>4</th>\n",
       "      <td>2</td>\n",
       "      <td>2022-01-01 00:36:48</td>\n",
       "      <td>2022-01-01 01:14:20</td>\n",
       "      <td>1.0</td>\n",
       "      <td>4.30</td>\n",
       "      <td>1.0</td>\n",
       "      <td>N</td>\n",
       "      <td>68</td>\n",
       "      <td>163</td>\n",
       "      <td>1</td>\n",
       "      <td>23.5</td>\n",
       "      <td>0.5</td>\n",
       "      <td>0.5</td>\n",
       "      <td>3.00</td>\n",
       "      <td>0.0</td>\n",
       "      <td>0.3</td>\n",
       "      <td>30.30</td>\n",
       "      <td>2.5</td>\n",
       "      <td>0.0</td>\n",
       "    </tr>\n",
       "  </tbody>\n",
       "</table>\n",
       "</div>"
      ],
      "text/plain": [
       "   VendorID tpep_pickup_datetime tpep_dropoff_datetime  passenger_count  \\\n",
       "0         1  2022-01-01 00:35:40   2022-01-01 00:53:29              2.0   \n",
       "1         1  2022-01-01 00:33:43   2022-01-01 00:42:07              1.0   \n",
       "2         2  2022-01-01 00:53:21   2022-01-01 01:02:19              1.0   \n",
       "3         2  2022-01-01 00:25:21   2022-01-01 00:35:23              1.0   \n",
       "4         2  2022-01-01 00:36:48   2022-01-01 01:14:20              1.0   \n",
       "\n",
       "   trip_distance  RatecodeID store_and_fwd_flag  PULocationID  DOLocationID  \\\n",
       "0           3.80         1.0                  N           142           236   \n",
       "1           2.10         1.0                  N           236            42   \n",
       "2           0.97         1.0                  N           166           166   \n",
       "3           1.09         1.0                  N           114            68   \n",
       "4           4.30         1.0                  N            68           163   \n",
       "\n",
       "   payment_type  fare_amount  extra  mta_tax  tip_amount  tolls_amount  \\\n",
       "0             1         14.5    3.0      0.5        3.65           0.0   \n",
       "1             1          8.0    0.5      0.5        4.00           0.0   \n",
       "2             1          7.5    0.5      0.5        1.76           0.0   \n",
       "3             2          8.0    0.5      0.5        0.00           0.0   \n",
       "4             1         23.5    0.5      0.5        3.00           0.0   \n",
       "\n",
       "   improvement_surcharge  total_amount  congestion_surcharge  airport_fee  \n",
       "0                    0.3         21.95                   2.5          0.0  \n",
       "1                    0.3         13.30                   0.0          0.0  \n",
       "2                    0.3         10.56                   0.0          0.0  \n",
       "3                    0.3         11.80                   2.5          0.0  \n",
       "4                    0.3         30.30                   2.5          0.0  "
      ]
     },
     "execution_count": 5,
     "metadata": {},
     "output_type": "execute_result"
    }
   ],
   "source": [
    "jan_df.head()"
   ]
  },
  {
   "cell_type": "code",
   "execution_count": 6,
   "id": "7d342eb8",
   "metadata": {
    "execution": {
     "iopub.execute_input": "2023-05-17T22:17:43.941641Z",
     "iopub.status.busy": "2023-05-17T22:17:43.940559Z",
     "iopub.status.idle": "2023-05-17T22:17:43.995369Z",
     "shell.execute_reply": "2023-05-17T22:17:43.993944Z"
    },
    "papermill": {
     "duration": 0.064247,
     "end_time": "2023-05-17T22:17:43.998120",
     "exception": false,
     "start_time": "2023-05-17T22:17:43.933873",
     "status": "completed"
    },
    "tags": []
   },
   "outputs": [],
   "source": [
    "jan_df['tpep_dropoff'] = pd.to_datetime(jan_df['tpep_dropoff_datetime'])\n",
    "feb_df['tpep_dropoff'] = pd.to_datetime(feb_df['tpep_dropoff_datetime'])\n",
    "jan_df['tpep_pickup'] = pd.to_datetime(jan_df['tpep_pickup_datetime'])\n",
    "feb_df['tpep_pickup'] = pd.to_datetime(feb_df['tpep_pickup_datetime'])"
   ]
  },
  {
   "cell_type": "code",
   "execution_count": 7,
   "id": "37d39b5d",
   "metadata": {
    "execution": {
     "iopub.execute_input": "2023-05-17T22:17:44.010469Z",
     "iopub.status.busy": "2023-05-17T22:17:44.010131Z",
     "iopub.status.idle": "2023-05-17T22:17:56.981095Z",
     "shell.execute_reply": "2023-05-17T22:17:56.980381Z"
    },
    "papermill": {
     "duration": 12.979647,
     "end_time": "2023-05-17T22:17:56.983338",
     "exception": false,
     "start_time": "2023-05-17T22:17:44.003691",
     "status": "completed"
    },
    "tags": []
   },
   "outputs": [],
   "source": [
    "#Q2\n",
    "#Compute duration\n",
    "jan_df['duration'] = jan_df['tpep_dropoff'] - jan_df['tpep_pickup']\n",
    "feb_df['duration'] = feb_df['tpep_dropoff'] - feb_df['tpep_pickup']\n",
    "# Convert to minutes and seconds\n",
    "jan_df['duration_min'] = jan_df.duration.apply(lambda td: td.total_seconds() / 60)\n",
    "feb_df['duration_min'] = feb_df.duration.apply(lambda td: td.total_seconds() / 60)"
   ]
  },
  {
   "cell_type": "code",
   "execution_count": 8,
   "id": "d10f6d06",
   "metadata": {
    "execution": {
     "iopub.execute_input": "2023-05-17T22:17:56.996551Z",
     "iopub.status.busy": "2023-05-17T22:17:56.995554Z",
     "iopub.status.idle": "2023-05-17T22:17:57.020209Z",
     "shell.execute_reply": "2023-05-17T22:17:57.018821Z"
    },
    "papermill": {
     "duration": 0.03346,
     "end_time": "2023-05-17T22:17:57.022380",
     "exception": false,
     "start_time": "2023-05-17T22:17:56.988920",
     "status": "completed"
    },
    "tags": []
   },
   "outputs": [
    {
     "data": {
      "text/plain": [
       "46.44530513776802"
      ]
     },
     "execution_count": 8,
     "metadata": {},
     "output_type": "execute_result"
    }
   ],
   "source": [
    "jan_df['duration_min'].std()"
   ]
  },
  {
   "cell_type": "code",
   "execution_count": 9,
   "id": "ee8f66cf",
   "metadata": {
    "execution": {
     "iopub.execute_input": "2023-05-17T22:17:57.034713Z",
     "iopub.status.busy": "2023-05-17T22:17:57.034352Z",
     "iopub.status.idle": "2023-05-17T22:17:57.066974Z",
     "shell.execute_reply": "2023-05-17T22:17:57.065887Z"
    },
    "papermill": {
     "duration": 0.041106,
     "end_time": "2023-05-17T22:17:57.068965",
     "exception": false,
     "start_time": "2023-05-17T22:17:57.027859",
     "status": "completed"
    },
    "tags": []
   },
   "outputs": [
    {
     "data": {
      "text/html": [
       "<div>\n",
       "<style scoped>\n",
       "    .dataframe tbody tr th:only-of-type {\n",
       "        vertical-align: middle;\n",
       "    }\n",
       "\n",
       "    .dataframe tbody tr th {\n",
       "        vertical-align: top;\n",
       "    }\n",
       "\n",
       "    .dataframe thead th {\n",
       "        text-align: right;\n",
       "    }\n",
       "</style>\n",
       "<table border=\"1\" class=\"dataframe\">\n",
       "  <thead>\n",
       "    <tr style=\"text-align: right;\">\n",
       "      <th></th>\n",
       "      <th>VendorID</th>\n",
       "      <th>tpep_pickup_datetime</th>\n",
       "      <th>tpep_dropoff_datetime</th>\n",
       "      <th>passenger_count</th>\n",
       "      <th>trip_distance</th>\n",
       "      <th>RatecodeID</th>\n",
       "      <th>store_and_fwd_flag</th>\n",
       "      <th>PULocationID</th>\n",
       "      <th>DOLocationID</th>\n",
       "      <th>payment_type</th>\n",
       "      <th>...</th>\n",
       "      <th>tip_amount</th>\n",
       "      <th>tolls_amount</th>\n",
       "      <th>improvement_surcharge</th>\n",
       "      <th>total_amount</th>\n",
       "      <th>congestion_surcharge</th>\n",
       "      <th>airport_fee</th>\n",
       "      <th>tpep_dropoff</th>\n",
       "      <th>tpep_pickup</th>\n",
       "      <th>duration</th>\n",
       "      <th>duration_min</th>\n",
       "    </tr>\n",
       "  </thead>\n",
       "  <tbody>\n",
       "    <tr>\n",
       "      <th>0</th>\n",
       "      <td>1</td>\n",
       "      <td>2022-01-01 00:35:40</td>\n",
       "      <td>2022-01-01 00:53:29</td>\n",
       "      <td>2.0</td>\n",
       "      <td>3.80</td>\n",
       "      <td>1.0</td>\n",
       "      <td>N</td>\n",
       "      <td>142</td>\n",
       "      <td>236</td>\n",
       "      <td>1</td>\n",
       "      <td>...</td>\n",
       "      <td>3.65</td>\n",
       "      <td>0.0</td>\n",
       "      <td>0.3</td>\n",
       "      <td>21.95</td>\n",
       "      <td>2.5</td>\n",
       "      <td>0.0</td>\n",
       "      <td>2022-01-01 00:53:29</td>\n",
       "      <td>2022-01-01 00:35:40</td>\n",
       "      <td>0 days 00:17:49</td>\n",
       "      <td>17.816667</td>\n",
       "    </tr>\n",
       "    <tr>\n",
       "      <th>1</th>\n",
       "      <td>1</td>\n",
       "      <td>2022-01-01 00:33:43</td>\n",
       "      <td>2022-01-01 00:42:07</td>\n",
       "      <td>1.0</td>\n",
       "      <td>2.10</td>\n",
       "      <td>1.0</td>\n",
       "      <td>N</td>\n",
       "      <td>236</td>\n",
       "      <td>42</td>\n",
       "      <td>1</td>\n",
       "      <td>...</td>\n",
       "      <td>4.00</td>\n",
       "      <td>0.0</td>\n",
       "      <td>0.3</td>\n",
       "      <td>13.30</td>\n",
       "      <td>0.0</td>\n",
       "      <td>0.0</td>\n",
       "      <td>2022-01-01 00:42:07</td>\n",
       "      <td>2022-01-01 00:33:43</td>\n",
       "      <td>0 days 00:08:24</td>\n",
       "      <td>8.400000</td>\n",
       "    </tr>\n",
       "    <tr>\n",
       "      <th>2</th>\n",
       "      <td>2</td>\n",
       "      <td>2022-01-01 00:53:21</td>\n",
       "      <td>2022-01-01 01:02:19</td>\n",
       "      <td>1.0</td>\n",
       "      <td>0.97</td>\n",
       "      <td>1.0</td>\n",
       "      <td>N</td>\n",
       "      <td>166</td>\n",
       "      <td>166</td>\n",
       "      <td>1</td>\n",
       "      <td>...</td>\n",
       "      <td>1.76</td>\n",
       "      <td>0.0</td>\n",
       "      <td>0.3</td>\n",
       "      <td>10.56</td>\n",
       "      <td>0.0</td>\n",
       "      <td>0.0</td>\n",
       "      <td>2022-01-01 01:02:19</td>\n",
       "      <td>2022-01-01 00:53:21</td>\n",
       "      <td>0 days 00:08:58</td>\n",
       "      <td>8.966667</td>\n",
       "    </tr>\n",
       "    <tr>\n",
       "      <th>3</th>\n",
       "      <td>2</td>\n",
       "      <td>2022-01-01 00:25:21</td>\n",
       "      <td>2022-01-01 00:35:23</td>\n",
       "      <td>1.0</td>\n",
       "      <td>1.09</td>\n",
       "      <td>1.0</td>\n",
       "      <td>N</td>\n",
       "      <td>114</td>\n",
       "      <td>68</td>\n",
       "      <td>2</td>\n",
       "      <td>...</td>\n",
       "      <td>0.00</td>\n",
       "      <td>0.0</td>\n",
       "      <td>0.3</td>\n",
       "      <td>11.80</td>\n",
       "      <td>2.5</td>\n",
       "      <td>0.0</td>\n",
       "      <td>2022-01-01 00:35:23</td>\n",
       "      <td>2022-01-01 00:25:21</td>\n",
       "      <td>0 days 00:10:02</td>\n",
       "      <td>10.033333</td>\n",
       "    </tr>\n",
       "    <tr>\n",
       "      <th>4</th>\n",
       "      <td>2</td>\n",
       "      <td>2022-01-01 00:36:48</td>\n",
       "      <td>2022-01-01 01:14:20</td>\n",
       "      <td>1.0</td>\n",
       "      <td>4.30</td>\n",
       "      <td>1.0</td>\n",
       "      <td>N</td>\n",
       "      <td>68</td>\n",
       "      <td>163</td>\n",
       "      <td>1</td>\n",
       "      <td>...</td>\n",
       "      <td>3.00</td>\n",
       "      <td>0.0</td>\n",
       "      <td>0.3</td>\n",
       "      <td>30.30</td>\n",
       "      <td>2.5</td>\n",
       "      <td>0.0</td>\n",
       "      <td>2022-01-01 01:14:20</td>\n",
       "      <td>2022-01-01 00:36:48</td>\n",
       "      <td>0 days 00:37:32</td>\n",
       "      <td>37.533333</td>\n",
       "    </tr>\n",
       "  </tbody>\n",
       "</table>\n",
       "<p>5 rows × 23 columns</p>\n",
       "</div>"
      ],
      "text/plain": [
       "   VendorID tpep_pickup_datetime tpep_dropoff_datetime  passenger_count  \\\n",
       "0         1  2022-01-01 00:35:40   2022-01-01 00:53:29              2.0   \n",
       "1         1  2022-01-01 00:33:43   2022-01-01 00:42:07              1.0   \n",
       "2         2  2022-01-01 00:53:21   2022-01-01 01:02:19              1.0   \n",
       "3         2  2022-01-01 00:25:21   2022-01-01 00:35:23              1.0   \n",
       "4         2  2022-01-01 00:36:48   2022-01-01 01:14:20              1.0   \n",
       "\n",
       "   trip_distance  RatecodeID store_and_fwd_flag  PULocationID  DOLocationID  \\\n",
       "0           3.80         1.0                  N           142           236   \n",
       "1           2.10         1.0                  N           236            42   \n",
       "2           0.97         1.0                  N           166           166   \n",
       "3           1.09         1.0                  N           114            68   \n",
       "4           4.30         1.0                  N            68           163   \n",
       "\n",
       "   payment_type  ...  tip_amount  tolls_amount  improvement_surcharge  \\\n",
       "0             1  ...        3.65           0.0                    0.3   \n",
       "1             1  ...        4.00           0.0                    0.3   \n",
       "2             1  ...        1.76           0.0                    0.3   \n",
       "3             2  ...        0.00           0.0                    0.3   \n",
       "4             1  ...        3.00           0.0                    0.3   \n",
       "\n",
       "   total_amount  congestion_surcharge  airport_fee        tpep_dropoff  \\\n",
       "0         21.95                   2.5          0.0 2022-01-01 00:53:29   \n",
       "1         13.30                   0.0          0.0 2022-01-01 00:42:07   \n",
       "2         10.56                   0.0          0.0 2022-01-01 01:02:19   \n",
       "3         11.80                   2.5          0.0 2022-01-01 00:35:23   \n",
       "4         30.30                   2.5          0.0 2022-01-01 01:14:20   \n",
       "\n",
       "          tpep_pickup        duration duration_min  \n",
       "0 2022-01-01 00:35:40 0 days 00:17:49    17.816667  \n",
       "1 2022-01-01 00:33:43 0 days 00:08:24     8.400000  \n",
       "2 2022-01-01 00:53:21 0 days 00:08:58     8.966667  \n",
       "3 2022-01-01 00:25:21 0 days 00:10:02    10.033333  \n",
       "4 2022-01-01 00:36:48 0 days 00:37:32    37.533333  \n",
       "\n",
       "[5 rows x 23 columns]"
      ]
     },
     "execution_count": 9,
     "metadata": {},
     "output_type": "execute_result"
    }
   ],
   "source": [
    "jan_df.head()"
   ]
  },
  {
   "cell_type": "code",
   "execution_count": 10,
   "id": "2068eae9",
   "metadata": {
    "execution": {
     "iopub.execute_input": "2023-05-17T22:17:57.084199Z",
     "iopub.status.busy": "2023-05-17T22:17:57.082771Z",
     "iopub.status.idle": "2023-05-17T22:17:57.099676Z",
     "shell.execute_reply": "2023-05-17T22:17:57.098246Z"
    },
    "papermill": {
     "duration": 0.026698,
     "end_time": "2023-05-17T22:17:57.101838",
     "exception": false,
     "start_time": "2023-05-17T22:17:57.075140",
     "status": "completed"
    },
    "tags": []
   },
   "outputs": [
    {
     "data": {
      "text/plain": [
       "0.9827547930522406"
      ]
     },
     "execution_count": 10,
     "metadata": {},
     "output_type": "execute_result"
    }
   ],
   "source": [
    "#Q3\n",
    "((jan_df['duration_min'] >= 1) & (jan_df['duration_min'] <= 60)).mean()"
   ]
  },
  {
   "cell_type": "code",
   "execution_count": 11,
   "id": "cd09ba6b",
   "metadata": {
    "execution": {
     "iopub.execute_input": "2023-05-17T22:17:57.114721Z",
     "iopub.status.busy": "2023-05-17T22:17:57.114344Z",
     "iopub.status.idle": "2023-05-17T22:17:57.893935Z",
     "shell.execute_reply": "2023-05-17T22:17:57.892207Z"
    },
    "papermill": {
     "duration": 0.788952,
     "end_time": "2023-05-17T22:17:57.896630",
     "exception": false,
     "start_time": "2023-05-17T22:17:57.107678",
     "status": "completed"
    },
    "tags": []
   },
   "outputs": [],
   "source": [
    "#Outlier Removal\n",
    "jan_df = jan_df[(jan_df['duration_min'] >= 1) & (jan_df['duration_min'] <= 60)]\n",
    "feb_df = feb_df[(feb_df['duration_min'] >= 1) & (feb_df['duration_min'] <= 60)]"
   ]
  },
  {
   "cell_type": "code",
   "execution_count": 12,
   "id": "bb4070d1",
   "metadata": {
    "execution": {
     "iopub.execute_input": "2023-05-17T22:17:57.912588Z",
     "iopub.status.busy": "2023-05-17T22:17:57.911977Z",
     "iopub.status.idle": "2023-05-17T22:18:06.263181Z",
     "shell.execute_reply": "2023-05-17T22:18:06.261102Z"
    },
    "papermill": {
     "duration": 8.36436,
     "end_time": "2023-05-17T22:18:06.267575",
     "exception": false,
     "start_time": "2023-05-17T22:17:57.903215",
     "status": "completed"
    },
    "tags": []
   },
   "outputs": [],
   "source": [
    "#Q4\n",
    "categorical = ['PULocationID', 'DOLocationID']\n",
    "jan_df[categorical] = jan_df[categorical].astype(str)\n",
    "train_dicts = jan_df[categorical].to_dict(orient='records')"
   ]
  },
  {
   "cell_type": "code",
   "execution_count": 13,
   "id": "c966e88d",
   "metadata": {
    "execution": {
     "iopub.execute_input": "2023-05-17T22:18:06.285127Z",
     "iopub.status.busy": "2023-05-17T22:18:06.284615Z",
     "iopub.status.idle": "2023-05-17T22:18:11.651864Z",
     "shell.execute_reply": "2023-05-17T22:18:11.650910Z"
    },
    "papermill": {
     "duration": 5.378453,
     "end_time": "2023-05-17T22:18:11.654186",
     "exception": false,
     "start_time": "2023-05-17T22:18:06.275733",
     "status": "completed"
    },
    "tags": []
   },
   "outputs": [],
   "source": [
    "dv = DictVectorizer()\n",
    "X_train = dv.fit_transform(train_dicts)"
   ]
  },
  {
   "cell_type": "code",
   "execution_count": 14,
   "id": "407cd82b",
   "metadata": {
    "execution": {
     "iopub.execute_input": "2023-05-17T22:18:11.668149Z",
     "iopub.status.busy": "2023-05-17T22:18:11.667795Z",
     "iopub.status.idle": "2023-05-17T22:18:11.673997Z",
     "shell.execute_reply": "2023-05-17T22:18:11.672947Z"
    },
    "papermill": {
     "duration": 0.015485,
     "end_time": "2023-05-17T22:18:11.675796",
     "exception": false,
     "start_time": "2023-05-17T22:18:11.660311",
     "status": "completed"
    },
    "tags": []
   },
   "outputs": [
    {
     "data": {
      "text/plain": [
       "(2421440, 515)"
      ]
     },
     "execution_count": 14,
     "metadata": {},
     "output_type": "execute_result"
    }
   ],
   "source": [
    "X_train.shape"
   ]
  },
  {
   "cell_type": "code",
   "execution_count": 15,
   "id": "37b4a234",
   "metadata": {
    "execution": {
     "iopub.execute_input": "2023-05-17T22:18:11.689145Z",
     "iopub.status.busy": "2023-05-17T22:18:11.688700Z",
     "iopub.status.idle": "2023-05-17T22:18:11.694699Z",
     "shell.execute_reply": "2023-05-17T22:18:11.693707Z"
    },
    "papermill": {
     "duration": 0.015047,
     "end_time": "2023-05-17T22:18:11.696654",
     "exception": false,
     "start_time": "2023-05-17T22:18:11.681607",
     "status": "completed"
    },
    "tags": []
   },
   "outputs": [],
   "source": [
    "#Q5\n",
    "target = 'duration_min'\n",
    "y_train = jan_df[target].values\n",
    "y_val = feb_df[target].values"
   ]
  },
  {
   "cell_type": "code",
   "execution_count": 16,
   "id": "cfa0c81f",
   "metadata": {
    "execution": {
     "iopub.execute_input": "2023-05-17T22:18:11.710371Z",
     "iopub.status.busy": "2023-05-17T22:18:11.710020Z",
     "iopub.status.idle": "2023-05-17T22:19:01.284423Z",
     "shell.execute_reply": "2023-05-17T22:19:01.283666Z"
    },
    "papermill": {
     "duration": 49.590847,
     "end_time": "2023-05-17T22:19:01.293732",
     "exception": false,
     "start_time": "2023-05-17T22:18:11.702885",
     "status": "completed"
    },
    "tags": []
   },
   "outputs": [
    {
     "data": {
      "text/html": [
       "<style>#sk-container-id-1 {color: black;background-color: white;}#sk-container-id-1 pre{padding: 0;}#sk-container-id-1 div.sk-toggleable {background-color: white;}#sk-container-id-1 label.sk-toggleable__label {cursor: pointer;display: block;width: 100%;margin-bottom: 0;padding: 0.3em;box-sizing: border-box;text-align: center;}#sk-container-id-1 label.sk-toggleable__label-arrow:before {content: \"▸\";float: left;margin-right: 0.25em;color: #696969;}#sk-container-id-1 label.sk-toggleable__label-arrow:hover:before {color: black;}#sk-container-id-1 div.sk-estimator:hover label.sk-toggleable__label-arrow:before {color: black;}#sk-container-id-1 div.sk-toggleable__content {max-height: 0;max-width: 0;overflow: hidden;text-align: left;background-color: #f0f8ff;}#sk-container-id-1 div.sk-toggleable__content pre {margin: 0.2em;color: black;border-radius: 0.25em;background-color: #f0f8ff;}#sk-container-id-1 input.sk-toggleable__control:checked~div.sk-toggleable__content {max-height: 200px;max-width: 100%;overflow: auto;}#sk-container-id-1 input.sk-toggleable__control:checked~label.sk-toggleable__label-arrow:before {content: \"▾\";}#sk-container-id-1 div.sk-estimator input.sk-toggleable__control:checked~label.sk-toggleable__label {background-color: #d4ebff;}#sk-container-id-1 div.sk-label input.sk-toggleable__control:checked~label.sk-toggleable__label {background-color: #d4ebff;}#sk-container-id-1 input.sk-hidden--visually {border: 0;clip: rect(1px 1px 1px 1px);clip: rect(1px, 1px, 1px, 1px);height: 1px;margin: -1px;overflow: hidden;padding: 0;position: absolute;width: 1px;}#sk-container-id-1 div.sk-estimator {font-family: monospace;background-color: #f0f8ff;border: 1px dotted black;border-radius: 0.25em;box-sizing: border-box;margin-bottom: 0.5em;}#sk-container-id-1 div.sk-estimator:hover {background-color: #d4ebff;}#sk-container-id-1 div.sk-parallel-item::after {content: \"\";width: 100%;border-bottom: 1px solid gray;flex-grow: 1;}#sk-container-id-1 div.sk-label:hover label.sk-toggleable__label {background-color: #d4ebff;}#sk-container-id-1 div.sk-serial::before {content: \"\";position: absolute;border-left: 1px solid gray;box-sizing: border-box;top: 0;bottom: 0;left: 50%;z-index: 0;}#sk-container-id-1 div.sk-serial {display: flex;flex-direction: column;align-items: center;background-color: white;padding-right: 0.2em;padding-left: 0.2em;position: relative;}#sk-container-id-1 div.sk-item {position: relative;z-index: 1;}#sk-container-id-1 div.sk-parallel {display: flex;align-items: stretch;justify-content: center;background-color: white;position: relative;}#sk-container-id-1 div.sk-item::before, #sk-container-id-1 div.sk-parallel-item::before {content: \"\";position: absolute;border-left: 1px solid gray;box-sizing: border-box;top: 0;bottom: 0;left: 50%;z-index: -1;}#sk-container-id-1 div.sk-parallel-item {display: flex;flex-direction: column;z-index: 1;position: relative;background-color: white;}#sk-container-id-1 div.sk-parallel-item:first-child::after {align-self: flex-end;width: 50%;}#sk-container-id-1 div.sk-parallel-item:last-child::after {align-self: flex-start;width: 50%;}#sk-container-id-1 div.sk-parallel-item:only-child::after {width: 0;}#sk-container-id-1 div.sk-dashed-wrapped {border: 1px dashed gray;margin: 0 0.4em 0.5em 0.4em;box-sizing: border-box;padding-bottom: 0.4em;background-color: white;}#sk-container-id-1 div.sk-label label {font-family: monospace;font-weight: bold;display: inline-block;line-height: 1.2em;}#sk-container-id-1 div.sk-label-container {text-align: center;}#sk-container-id-1 div.sk-container {/* jupyter's `normalize.less` sets `[hidden] { display: none; }` but bootstrap.min.css set `[hidden] { display: none !important; }` so we also need the `!important` here to be able to override the default hidden behavior on the sphinx rendered scikit-learn.org. See: https://github.com/scikit-learn/scikit-learn/issues/21755 */display: inline-block !important;position: relative;}#sk-container-id-1 div.sk-text-repr-fallback {display: none;}</style><div id=\"sk-container-id-1\" class=\"sk-top-container\"><div class=\"sk-text-repr-fallback\"><pre>LinearRegression()</pre><b>In a Jupyter environment, please rerun this cell to show the HTML representation or trust the notebook. <br />On GitHub, the HTML representation is unable to render, please try loading this page with nbviewer.org.</b></div><div class=\"sk-container\" hidden><div class=\"sk-item\"><div class=\"sk-estimator sk-toggleable\"><input class=\"sk-toggleable__control sk-hidden--visually\" id=\"sk-estimator-id-1\" type=\"checkbox\" checked><label for=\"sk-estimator-id-1\" class=\"sk-toggleable__label sk-toggleable__label-arrow\">LinearRegression</label><div class=\"sk-toggleable__content\"><pre>LinearRegression()</pre></div></div></div></div></div>"
      ],
      "text/plain": [
       "LinearRegression()"
      ]
     },
     "execution_count": 16,
     "metadata": {},
     "output_type": "execute_result"
    }
   ],
   "source": [
    "lr = LinearRegression()\n",
    "lr.fit(X_train, y_train)"
   ]
  },
  {
   "cell_type": "code",
   "execution_count": 17,
   "id": "4744dc7c",
   "metadata": {
    "execution": {
     "iopub.execute_input": "2023-05-17T22:19:01.312149Z",
     "iopub.status.busy": "2023-05-17T22:19:01.310657Z",
     "iopub.status.idle": "2023-05-17T22:19:01.335427Z",
     "shell.execute_reply": "2023-05-17T22:19:01.334503Z"
    },
    "papermill": {
     "duration": 0.036956,
     "end_time": "2023-05-17T22:19:01.338335",
     "exception": false,
     "start_time": "2023-05-17T22:19:01.301379",
     "status": "completed"
    },
    "tags": []
   },
   "outputs": [],
   "source": [
    "y_pred = lr.predict(X_train)"
   ]
  },
  {
   "cell_type": "code",
   "execution_count": 18,
   "id": "0dd35652",
   "metadata": {
    "execution": {
     "iopub.execute_input": "2023-05-17T22:19:01.357128Z",
     "iopub.status.busy": "2023-05-17T22:19:01.356322Z",
     "iopub.status.idle": "2023-05-17T22:19:01.378548Z",
     "shell.execute_reply": "2023-05-17T22:19:01.377691Z"
    },
    "papermill": {
     "duration": 0.033922,
     "end_time": "2023-05-17T22:19:01.380933",
     "exception": false,
     "start_time": "2023-05-17T22:19:01.347011",
     "status": "completed"
    },
    "tags": []
   },
   "outputs": [
    {
     "data": {
      "text/plain": [
       "6.986190135957529"
      ]
     },
     "execution_count": 18,
     "metadata": {},
     "output_type": "execute_result"
    }
   ],
   "source": [
    "mean_squared_error(y_train, y_pred, squared=False)"
   ]
  },
  {
   "cell_type": "code",
   "execution_count": 19,
   "id": "28ee970f",
   "metadata": {
    "execution": {
     "iopub.execute_input": "2023-05-17T22:19:01.397925Z",
     "iopub.status.busy": "2023-05-17T22:19:01.397479Z",
     "iopub.status.idle": "2023-05-17T22:19:17.939869Z",
     "shell.execute_reply": "2023-05-17T22:19:17.938761Z"
    },
    "papermill": {
     "duration": 16.5527,
     "end_time": "2023-05-17T22:19:17.942212",
     "exception": false,
     "start_time": "2023-05-17T22:19:01.389512",
     "status": "completed"
    },
    "tags": []
   },
   "outputs": [],
   "source": [
    "#Q6\n",
    "#Create validation set\n",
    "feb_df[categorical] = feb_df[categorical].astype(str)\n",
    "valid_dicts = feb_df[categorical].to_dict(orient='records')\n",
    "X_val = dv.transform(valid_dicts)"
   ]
  },
  {
   "cell_type": "code",
   "execution_count": 20,
   "id": "c0c5dd32",
   "metadata": {
    "execution": {
     "iopub.execute_input": "2023-05-17T22:19:17.956385Z",
     "iopub.status.busy": "2023-05-17T22:19:17.955991Z",
     "iopub.status.idle": "2023-05-17T22:19:17.962965Z",
     "shell.execute_reply": "2023-05-17T22:19:17.961970Z"
    },
    "papermill": {
     "duration": 0.016924,
     "end_time": "2023-05-17T22:19:17.965464",
     "exception": false,
     "start_time": "2023-05-17T22:19:17.948540",
     "status": "completed"
    },
    "tags": []
   },
   "outputs": [
    {
     "data": {
      "text/plain": [
       "(2918187, 515)"
      ]
     },
     "execution_count": 20,
     "metadata": {},
     "output_type": "execute_result"
    }
   ],
   "source": [
    "X_val.shape"
   ]
  },
  {
   "cell_type": "code",
   "execution_count": 21,
   "id": "0b8fd4b1",
   "metadata": {
    "execution": {
     "iopub.execute_input": "2023-05-17T22:19:17.980400Z",
     "iopub.status.busy": "2023-05-17T22:19:17.980028Z",
     "iopub.status.idle": "2023-05-17T22:19:17.997856Z",
     "shell.execute_reply": "2023-05-17T22:19:17.996598Z"
    },
    "papermill": {
     "duration": 0.028077,
     "end_time": "2023-05-17T22:19:18.000344",
     "exception": false,
     "start_time": "2023-05-17T22:19:17.972267",
     "status": "completed"
    },
    "tags": []
   },
   "outputs": [],
   "source": [
    "y_pred = lr.predict(X_val)"
   ]
  },
  {
   "cell_type": "code",
   "execution_count": 22,
   "id": "cfbb3443",
   "metadata": {
    "execution": {
     "iopub.execute_input": "2023-05-17T22:19:18.016839Z",
     "iopub.status.busy": "2023-05-17T22:19:18.016427Z",
     "iopub.status.idle": "2023-05-17T22:19:18.034406Z",
     "shell.execute_reply": "2023-05-17T22:19:18.033510Z"
    },
    "papermill": {
     "duration": 0.029412,
     "end_time": "2023-05-17T22:19:18.036423",
     "exception": false,
     "start_time": "2023-05-17T22:19:18.007011",
     "status": "completed"
    },
    "tags": []
   },
   "outputs": [
    {
     "data": {
      "text/plain": [
       "7.786389537638445"
      ]
     },
     "execution_count": 22,
     "metadata": {},
     "output_type": "execute_result"
    }
   ],
   "source": [
    "mean_squared_error(y_val, y_pred, squared=False)"
   ]
  }
 ],
 "metadata": {
  "kernelspec": {
   "display_name": "Python 3",
   "language": "python",
   "name": "python3"
  },
  "language_info": {
   "codemirror_mode": {
    "name": "ipython",
    "version": 3
   },
   "file_extension": ".py",
   "mimetype": "text/x-python",
   "name": "python",
   "nbconvert_exporter": "python",
   "pygments_lexer": "ipython3",
   "version": "3.10.10"
  },
  "papermill": {
   "default_parameters": {},
   "duration": 111.080999,
   "end_time": "2023-05-17T22:19:19.468027",
   "environment_variables": {},
   "exception": null,
   "input_path": "__notebook__.ipynb",
   "output_path": "__notebook__.ipynb",
   "parameters": {},
   "start_time": "2023-05-17T22:17:28.387028",
   "version": "2.4.0"
  }
 },
 "nbformat": 4,
 "nbformat_minor": 5
}
